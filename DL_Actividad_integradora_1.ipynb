{
  "nbformat": 4,
  "nbformat_minor": 0,
  "metadata": {
    "colab": {
      "name": "DL_Actividad_integradora_1.ipynb",
      "provenance": [],
      "collapsed_sections": [],
      "include_colab_link": true
    },
    "kernelspec": {
      "name": "python3",
      "display_name": "Python 3"
    }
  },
  "cells": [
    {
      "cell_type": "markdown",
      "metadata": {
        "id": "view-in-github",
        "colab_type": "text"
      },
      "source": [
        "<a href=\"https://colab.research.google.com/github/tozanni/Data_Science_Notebooks/blob/main/DL_Actividad_integradora_1.ipynb\" target=\"_parent\"><img src=\"https://colab.research.google.com/assets/colab-badge.svg\" alt=\"Open In Colab\"/></a>"
      ]
    },
    {
      "cell_type": "markdown",
      "metadata": {
        "id": "p5PAhkSzbkRi"
      },
      "source": [
        "# Evaluación de modelos y funciones de pérdida"
      ]
    },
    {
      "cell_type": "code",
      "metadata": {
        "id": "g7pqJJrJd8v8"
      },
      "source": [
        "import sklearn as skl\n",
        "import numpy as np\n",
        "import scipy as sc\n",
        "import matplotlib.pyplot as plt"
      ],
      "execution_count": null,
      "outputs": []
    },
    {
      "cell_type": "markdown",
      "source": [
        "Los datos de vivienda de California se centran en modelar la relación existente entre diversas variables predictivas y el valor medio de las viviendas. "
      ],
      "metadata": {
        "id": "LV-08ezEaVgk"
      }
    },
    {
      "cell_type": "code",
      "metadata": {
        "id": "cBF-24BkiruX"
      },
      "source": [
        "from sklearn.datasets import fetch_california_housing\n",
        "housing = fetch_california_housing()\n",
        "\n",
        "X = housing.data\n",
        "Y = housing.target\n"
      ],
      "execution_count": null,
      "outputs": []
    },
    {
      "cell_type": "markdown",
      "metadata": {
        "id": "97yJHn9aDN3g"
      },
      "source": [
        "## Actividad 1: evaluación de modelos usando la función MSE\n",
        "\n",
        "Ajusta tres modelos sobre los datos de vivienda de California. Puedes utilizar la librería [Scikit-Learn](https://scikit-learn.org/stable/). Evalúa los siguientes modelos utilizando la métrica del error medio cuadrático (MSE):\n",
        "\n",
        "1.   [Modelo de regresión lineal múltiple con término de intercepto](https://scikit-learn.org/stable/modules/generated/sklearn.linear_model.LinearRegression.html)\n",
        "2.   Modelo de regresión lineal múltiple sin término de intercepto (intercept=False)\n",
        "3. [Modelo de Perceptrón Multicapa](https://scikit-learn.org/stable/modules/generated/sklearn.neural_network.MLPRegressor.html#sklearn.neural_network.MLPRegressor)\n",
        "\n",
        "**Tus actividades**\n",
        "\n",
        "1.   Ajusta los modelos de regresión arriba descritos, genera una partición de training y test set.\n",
        "2.   Implementa la función de evaluación o pérdida error medio cuadrático para cada uno de los valores del test set.\n",
        "\n",
        "3. Grafica el ajuste de los modelos vs. los datos reales utilizando matplotlib.\n",
        "\n",
        "4. Valida tus resultados comparando vs. la función mean_squared_error de sklearn\n",
        "\n",
        "5. Comenta tus conclusiones, ¿Qué interpretación de las a sus valores de MSE? ¿Qué modelo escogerias y en base a que?\n"
      ]
    },
    {
      "cell_type": "code",
      "metadata": {
        "id": "xwwMXdGzG_kf"
      },
      "source": [
        "from sklearn import linear_model\n",
        "from sklearn.metrics import mean_squared_error\n"
      ],
      "execution_count": null,
      "outputs": []
    },
    {
      "cell_type": "markdown",
      "source": [
        "**Tu tarea:** \n",
        "\n",
        "\n"
      ],
      "metadata": {
        "id": "z_Y5bGZ7Z7Vu"
      }
    },
    {
      "cell_type": "markdown",
      "source": [
        "# Entropía Cruzada\n",
        "\n",
        "La pérdida de entropía cruzada es una métrica que se utiliza para medir el rendimiento de un modelo de clasificación en el aprendizaje automático. La pérdida (o error) se mide como un número entre 0 y 1.\n",
        "\n",
        "\n",
        "**Tus actividades**\n",
        "\n",
        "1. Implementa la función para calcular la entropía cruzada binaria (BCE) del arreglo q y del arreglo r, en relación a los valores verdaderos. BCE(p,q) vs. BCE(q,r)\n",
        "\n",
        "\n",
        "\n",
        "*   p: Datos verdaderos\n",
        "*   q: Predicción del primer modelo\n",
        "*   r: Predicción del segundo modelo\n",
        "\n",
        "\n",
        "2. Comenta tus conclusione ¿Qué modelo escogerías y qué interpretación le das a sus valores de entropía cruzada?\n",
        "\n",
        "3. Valida tus resultados comparando con la función [log_loss](https://scikit-learn.org/stable/modules/generated/sklearn.metrics.log_loss.html) de SkLearn"
      ],
      "metadata": {
        "id": "to-TPZZqjU3C"
      }
    },
    {
      "cell_type": "code",
      "source": [
        "# calculate cross entropy with keras\n",
        "from numpy import asarray\n",
        "\n",
        "# prepare classification data\n",
        "p = asarray([1, 1, 1, 1, 1, 0, 0, 0, 0, 0]) ##valores verdaderos\n",
        "q = asarray([0.8, 0.9, 0.9, 0.6, 0.8, 0.1, 0.4, 0.2, 0.1, 0.3]) #prediccion modelo 1\n",
        "r = asarray([0.9, 1, 1, 0.9, 0.8, 0.1, 0.1, 0.2, 0.1, 0.1]) #prediccion modelo 2\n"
      ],
      "metadata": {
        "id": "hG6QOTerZ6r3"
      },
      "execution_count": null,
      "outputs": []
    },
    {
      "cell_type": "code",
      "source": [
        ""
      ],
      "metadata": {
        "id": "NWhFnqck0kQq"
      },
      "execution_count": null,
      "outputs": []
    }
  ]
}