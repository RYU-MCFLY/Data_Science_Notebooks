{
  "nbformat": 4,
  "nbformat_minor": 0,
  "metadata": {
    "colab": {
      "name": "BCE y LogLoss.ipynb",
      "provenance": [],
      "collapsed_sections": [],
      "authorship_tag": "ABX9TyMSXdNiODgrKGBVwgDdN+oI",
      "include_colab_link": true
    },
    "kernelspec": {
      "name": "python3",
      "display_name": "Python 3"
    },
    "language_info": {
      "name": "python"
    }
  },
  "cells": [
    {
      "cell_type": "markdown",
      "metadata": {
        "id": "view-in-github",
        "colab_type": "text"
      },
      "source": [
        "<a href=\"https://colab.research.google.com/github/tozanni/Data_Science_Notebooks/blob/main/BCE_y_LogLoss.ipynb\" target=\"_parent\"><img src=\"https://colab.research.google.com/assets/colab-badge.svg\" alt=\"Open In Colab\"/></a>"
      ]
    },
    {
      "cell_type": "markdown",
      "metadata": {
        "id": "lWCKNvApyE9N"
      },
      "source": [
        "[Understanding binary cross-entropy / log loss: a visual explanation](https://towardsdatascience.com/understanding-binary-cross-entropy-log-loss-a-visual-explanation-a3ac6025181a)"
      ]
    },
    {
      "cell_type": "code",
      "metadata": {
        "colab": {
          "base_uri": "https://localhost:8080/"
        },
        "id": "5i65-v7ytjiB",
        "outputId": "2a7647a8-d8aa-4e8d-e0ca-d387749e0f64"
      },
      "source": [
        "from sklearn.linear_model import LogisticRegression\n",
        "from sklearn.metrics import log_loss\n",
        "import numpy as np\n",
        "\n",
        "x = np.array([-2.2, -1.4, -.8, .2, .4, .8, 1.2, 2.2, 2.9, 4.6])\n",
        "y = np.array([0.0, 0.0, 1.0, 0.0, 1.0, 1.0, 1.0, 1.0, 1.0, 1.0])\n",
        "\n",
        "logr = LogisticRegression(solver='lbfgs')\n",
        "logr.fit(x.reshape(-1, 1), y)\n",
        "\n",
        "y_pred = logr.predict_proba(x.reshape(-1, 1))[:, 1].ravel()\n",
        "loss = log_loss(y, y_pred)\n",
        "\n",
        "print('x = {}'.format(x))\n",
        "print('y = {}'.format(y))\n",
        "print('p(y) = {}'.format(np.round(y_pred, 2)))\n",
        "print('y_pred = {}'.format(np.round(y_pred, 0)))\n",
        "\n",
        "print('Log Loss / Cross Entropy = {:.4f}'.format(loss))"
      ],
      "execution_count": 43,
      "outputs": [
        {
          "output_type": "stream",
          "name": "stdout",
          "text": [
            "x = [-2.2 -1.4 -0.8  0.2  0.4  0.8  1.2  2.2  2.9  4.6]\n",
            "y = [0. 0. 1. 0. 1. 1. 1. 1. 1. 1.]\n",
            "p(y) = [0.19 0.33 0.47 0.7  0.74 0.81 0.86 0.94 0.97 0.99]\n",
            "y_pred = [0. 0. 0. 1. 1. 1. 1. 1. 1. 1.]\n",
            "Log Loss / Cross Entropy = 0.3329\n"
          ]
        }
      ]
    },
    {
      "cell_type": "markdown",
      "metadata": {
        "id": "ospSKViOyDL7"
      },
      "source": [
        "### Calculo manual de log_loss y BCE"
      ]
    },
    {
      "cell_type": "code",
      "metadata": {
        "id": "skjhraoltkF-"
      },
      "source": [
        "\n",
        "def log_loss(hx, y):\n",
        "  if y:\n",
        "    return -1*np.log(hx)\n",
        "  else:\n",
        "    return -1*np.log(1 - hx)\n"
      ],
      "execution_count": 35,
      "outputs": []
    },
    {
      "cell_type": "code",
      "metadata": {
        "colab": {
          "base_uri": "https://localhost:8080/"
        },
        "id": "OuHS67NnuHWJ",
        "outputId": "4123190c-0333-404f-ec56-f728c71a707d"
      },
      "source": [
        "cost(0.19, 0)"
      ],
      "execution_count": 4,
      "outputs": [
        {
          "output_type": "execute_result",
          "data": {
            "text/plain": [
              "0.21072103131565253"
            ]
          },
          "metadata": {},
          "execution_count": 4
        }
      ]
    },
    {
      "cell_type": "code",
      "metadata": {
        "colab": {
          "base_uri": "https://localhost:8080/"
        },
        "id": "x0XRYAWQuM7U",
        "outputId": "9dec5224-38f7-49ee-ec5d-9decc7cd28ec"
      },
      "source": [
        "cost(0.33, 0)"
      ],
      "execution_count": 5,
      "outputs": [
        {
          "output_type": "execute_result",
          "data": {
            "text/plain": [
              "0.4004775665971254"
            ]
          },
          "metadata": {},
          "execution_count": 5
        }
      ]
    },
    {
      "cell_type": "code",
      "metadata": {
        "colab": {
          "base_uri": "https://localhost:8080/"
        },
        "id": "V1nBBUxduVUV",
        "outputId": "37e4ddc9-7c8f-4b18-e9c3-0fde40cd6e0b"
      },
      "source": [
        "cost(0.47, 1)"
      ],
      "execution_count": 6,
      "outputs": [
        {
          "output_type": "execute_result",
          "data": {
            "text/plain": [
              "0.7550225842780328"
            ]
          },
          "metadata": {},
          "execution_count": 6
        }
      ]
    },
    {
      "cell_type": "code",
      "metadata": {
        "colab": {
          "base_uri": "https://localhost:8080/"
        },
        "id": "joTO42U8uYKy",
        "outputId": "25eb2f28-510d-4640-844e-713bd5eb15b0"
      },
      "source": [
        "cost(0.7, 0)"
      ],
      "execution_count": 7,
      "outputs": [
        {
          "output_type": "execute_result",
          "data": {
            "text/plain": [
              "1.203972804325936"
            ]
          },
          "metadata": {},
          "execution_count": 7
        }
      ]
    },
    {
      "cell_type": "code",
      "metadata": {
        "colab": {
          "base_uri": "https://localhost:8080/"
        },
        "id": "yrUTei5outmR",
        "outputId": "c3368e41-b71c-4bb3-faa4-13425ec967cd"
      },
      "source": [
        "c = [0]*len(y)\n",
        "\n",
        "for i in range(0, len(y)):\n",
        "  c[i] = log_loss(y_pred[i], y[i])\n",
        "  print(\"p(yi)={0}, yi={1}, H(p,q)={2}\".format(np.round(y_pred[i],2), y[i], c[i]))\n"
      ],
      "execution_count": 36,
      "outputs": [
        {
          "output_type": "stream",
          "name": "stdout",
          "text": [
            "p(yi)=0.19, yi=0.0, H(p,q)=0.2046009728777024\n",
            "p(yi)=0.33, yi=0.0, H(p,q)=0.4014917410567014\n",
            "p(yi)=0.47, yi=1.0, H(p,q)=0.7559874370947951\n",
            "p(yi)=0.7, yi=0.0, H(p,q)=1.205833010082353\n",
            "p(yi)=0.74, yi=1.0, H(p,q)=0.30152932184233755\n",
            "p(yi)=0.81, yi=1.0, H(p,q)=0.21395504627978146\n",
            "p(yi)=0.86, yi=1.0, H(p,q)=0.14990394093649714\n",
            "p(yi)=0.94, yi=1.0, H(p,q)=0.059389810699911644\n",
            "p(yi)=0.97, yi=1.0, H(p,q)=0.03051821899575998\n",
            "p(yi)=0.99, yi=1.0, H(p,q)=0.005920370874959147\n"
          ]
        }
      ]
    },
    {
      "cell_type": "code",
      "metadata": {
        "colab": {
          "base_uri": "https://localhost:8080/"
        },
        "id": "RwJgaX_ZvQmn",
        "outputId": "12fd73e4-f82d-453a-eee3-7cea5b0d5719"
      },
      "source": [
        "# Este es el calculo final de BCE, de la cual log_loss es solo un componente\n",
        "\n",
        "np.round(np.mean(c),4)\n"
      ],
      "execution_count": 38,
      "outputs": [
        {
          "output_type": "execute_result",
          "data": {
            "text/plain": [
              "0.3329"
            ]
          },
          "metadata": {},
          "execution_count": 38
        }
      ]
    },
    {
      "cell_type": "markdown",
      "metadata": {
        "id": "13qEbvVN0Spt"
      },
      "source": [
        "### Ejercicio, calcular algunas otras métricas\n",
        "\n",
        "https://scikit-learn.org/stable/modules/model_evaluation.html#classification-metrics\n"
      ]
    },
    {
      "cell_type": "code",
      "metadata": {
        "colab": {
          "base_uri": "https://localhost:8080/"
        },
        "id": "y5HjvUcaxe9G",
        "outputId": "6d4923a9-abf9-4ced-f10f-5de61ef4ccb9"
      },
      "source": [
        "\n",
        "from sklearn.metrics import classification_report\n",
        "\n",
        "print(classification_report(y, np.round(y_pred,0)))"
      ],
      "execution_count": 41,
      "outputs": [
        {
          "output_type": "stream",
          "name": "stdout",
          "text": [
            "              precision    recall  f1-score   support\n",
            "\n",
            "         0.0       0.67      0.67      0.67         3\n",
            "         1.0       0.86      0.86      0.86         7\n",
            "\n",
            "    accuracy                           0.80        10\n",
            "   macro avg       0.76      0.76      0.76        10\n",
            "weighted avg       0.80      0.80      0.80        10\n",
            "\n"
          ]
        }
      ]
    },
    {
      "cell_type": "code",
      "metadata": {
        "id": "ok_5UnLczxC8"
      },
      "source": [
        ""
      ],
      "execution_count": null,
      "outputs": []
    }
  ]
}