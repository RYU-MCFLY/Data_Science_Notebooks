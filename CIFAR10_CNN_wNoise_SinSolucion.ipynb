{
  "cells": [
    {
      "cell_type": "markdown",
      "metadata": {
        "id": "view-in-github",
        "colab_type": "text"
      },
      "source": [
        "<a href=\"https://colab.research.google.com/github/tozanni/Data_Science_Notebooks/blob/main/CIFAR10_CNN_wNoise_SinSolucion.ipynb\" target=\"_parent\"><img src=\"https://colab.research.google.com/assets/colab-badge.svg\" alt=\"Open In Colab\"/></a>"
      ]
    },
    {
      "cell_type": "markdown",
      "metadata": {
        "id": "EWl8lLBdQIR6"
      },
      "source": [
        "## Clasificador CNN para CIFAR10 con ruido y aumentación de datos\n",
        "\n",
        "En este cuaderno exploraremos los siguientes conceptos:\n",
        "\n",
        "- Agregar ruido sintético a las imágenes para simular un dataset con ruido.\n",
        "- Evaluar el clasificador original en imágenes con ruido.\n",
        "- Mejorar el desempeño del clasificador mediante una aumentación de datos.\n"
      ]
    },
    {
      "cell_type": "code",
      "execution_count": null,
      "metadata": {
        "id": "AVM7YqFuQdmQ"
      },
      "outputs": [],
      "source": [
        "import keras\n",
        "from keras.datasets import cifar10\n",
        "from keras.models import Sequential\n",
        "from keras import datasets, layers, models\n",
        "from keras.utils import np_utils\n",
        "from keras import regularizers\n",
        "from keras.layers import Dense, Dropout, BatchNormalization\n",
        "import matplotlib.pyplot as plt\n",
        "import numpy as np"
      ]
    },
    {
      "cell_type": "code",
      "execution_count": null,
      "metadata": {
        "id": "Jby6LksDQg9S"
      },
      "outputs": [],
      "source": [
        "(x_train, y_train), (x_test, y_test) = datasets.cifar10.load_data()"
      ]
    },
    {
      "cell_type": "markdown",
      "source": [
        "Verificando la cantidad de imagenes en el dataset y su dimension, en este caso recibimos 50,000 imagenes de 32x32 x 3 canales de color."
      ],
      "metadata": {
        "id": "l9yMMCGGglqg"
      }
    },
    {
      "cell_type": "code",
      "source": [
        "# Normalizar\n",
        "x_train = x_train.astype('float32')\n",
        "x_test = x_test.astype('float32')\n",
        "x_train /= 255\n",
        "x_test /= 255\n",
        "\n",
        "# Datos generales\n",
        "print('x_train shape:', x_train.shape)\n",
        "print(x_train.shape[0], 'train samples')\n",
        "print(x_test.shape[0], 'test samples')"
      ],
      "metadata": {
        "id": "tWR3f_EcMUy4"
      },
      "execution_count": null,
      "outputs": []
    },
    {
      "cell_type": "code",
      "source": [
        "# Dividir validation y test\n",
        "x_val = x_test[:7000]\n",
        "x_test = x_test[7000:]\n",
        "print(\"validation data: {0} \\ntest data: {1}\".format(x_val.shape, x_test.shape))"
      ],
      "metadata": {
        "id": "92bjCdGmMjaC"
      },
      "execution_count": null,
      "outputs": []
    },
    {
      "cell_type": "code",
      "source": [
        "# Etiquetas\n",
        "class_names = ['airplane', 'automobile', 'bird', 'cat', 'deer',\n",
        "               'dog', 'frog', 'horse', 'ship', 'truck']"
      ],
      "metadata": {
        "id": "7syDJyJnMnT2"
      },
      "execution_count": null,
      "outputs": []
    },
    {
      "cell_type": "markdown",
      "metadata": {
        "id": "u_nORIySUtU4"
      },
      "source": [
        "### Introducción de ruido sintético\n",
        "\n",
        "Generamos versiones \"noisy\" de nuestro training, test y validation set.\n"
      ]
    },
    {
      "cell_type": "code",
      "execution_count": null,
      "metadata": {
        "id": "8kT9ReE1Qosu"
      },
      "outputs": [],
      "source": [
        "noise_factor = 0.3\n",
        "x_train_noisy = x_train + noise_factor * np.random.normal(loc=0.0, scale=1.0, size=x_train.shape) \n",
        "x_test_noisy = x_test + noise_factor * np.random.normal(loc=0.0, scale=1.0, size=x_test.shape) \n",
        "x_val_noisy = x_val + noise_factor * np.random.normal(loc=0.0, scale=1.0, size=x_val.shape) \n",
        "\n",
        "x_train_noisy = np.clip(x_train_noisy, 0., 1.)\n",
        "x_test_noisy = np.clip(x_test_noisy, 0., 1.)\n",
        "x_val_noisy = np.clip(x_val_noisy, 0., 1.)\n"
      ]
    },
    {
      "cell_type": "code",
      "source": [
        "# Funcion para mostrar imagen original e imagen con ruido\n",
        "def showOrigDec(orig, noise, num=10):\n",
        "    import matplotlib.pyplot as plt\n",
        "    n = num\n",
        "    plt.figure(figsize=(20, 4))\n",
        "\n",
        "    for i in range(n):\n",
        "        # display original\n",
        "        ax = plt.subplot(2, n, i+1)\n",
        "        plt.imshow(orig[i].reshape(32, 32, 3))\n",
        "        ax.get_xaxis().set_visible(False)\n",
        "        ax.get_yaxis().set_visible(False)\n",
        "        \n",
        "        # display original\n",
        "        ax = plt.subplot(2, n, i +1 + n)\n",
        "        plt.imshow(noise[i].reshape(32, 32, 3))\n",
        "        ax.get_xaxis().set_visible(False)\n",
        "        ax.get_yaxis().set_visible(False)\n",
        "    plt.show()\n",
        "\n",
        "showOrigDec(x_train, x_train_noisy)"
      ],
      "metadata": {
        "id": "LbyUbYMiM5Dv"
      },
      "execution_count": null,
      "outputs": []
    },
    {
      "cell_type": "code",
      "execution_count": null,
      "metadata": {
        "id": "rS8WKQk-Qrge"
      },
      "outputs": [],
      "source": [
        "# Se codifican las etiquetas como one-hot, posteriormente se utilizará la función de categorical-cross-entropy\n",
        "num_classes = 10\n",
        "y_train_labels = np_utils.to_categorical(y_train, num_classes)\n",
        "y_test_labels = np_utils.to_categorical(y_test, num_classes)\n"
      ]
    },
    {
      "cell_type": "code",
      "execution_count": null,
      "metadata": {
        "id": "wTkHv176aPmx"
      },
      "outputs": [],
      "source": [
        "# Dividir etiquetas de validacion\n",
        "y_val_labels = y_test_labels[:7000]\n",
        "y_test_labels = y_test_labels[7000:]"
      ]
    },
    {
      "cell_type": "markdown",
      "source": [
        "## Ejercicio: \n",
        "\n",
        "Completa la red con las capas faltantes. Indica la opción correcta:\n",
        "\n"
      ],
      "metadata": {
        "id": "uq6vjnA9Xf7v"
      }
    },
    {
      "cell_type": "code",
      "execution_count": null,
      "metadata": {
        "id": "jGS4sBsTQy7c"
      },
      "outputs": [],
      "source": [
        "model = Sequential()\n",
        "\n",
        "## Ejercicio: Inserta a continuación la capa que falta al modelo:\n",
        "## model.add(...)\n",
        "\n",
        "model.add(layers.BatchNormalization())\n",
        "model.add(layers.Conv2D(32, (3,3), padding='same', activation='relu'))\n",
        "model.add(layers.BatchNormalization())\n",
        "model.add(layers.MaxPooling2D(pool_size=(2,2)))\n",
        "model.add(layers.Dropout(0.3))\n",
        "\n",
        "model.add(layers.Conv2D(64, (3,3), padding='same', activation='relu'))\n",
        "model.add(layers.BatchNormalization())\n",
        "model.add(layers.Conv2D(64, (3,3), padding='same', activation='relu'))\n",
        "model.add(layers.BatchNormalization())\n",
        "model.add(layers.MaxPooling2D(pool_size=(2,2)))\n",
        "model.add(layers.Dropout(0.5))\n",
        "\n",
        "model.add(layers.Conv2D(128, (3,3), padding='same', activation='relu'))\n",
        "model.add(layers.BatchNormalization())\n",
        "model.add(layers.Conv2D(128, (3,3), padding='same', activation='relu'))\n",
        "model.add(layers.BatchNormalization())\n",
        "model.add(layers.MaxPooling2D(pool_size=(2,2)))\n",
        "model.add(layers.Dropout(0.5))\n",
        "\n",
        "model.add(layers.Flatten())\n",
        "model.add(layers.Dense(128, activation='relu'))\n",
        "model.add(layers.BatchNormalization())\n",
        "model.add(layers.Dropout(0.5))\n",
        "model.add(layers.Dense(num_classes, activation='softmax'))\n",
        "\n",
        "model.summary()"
      ]
    },
    {
      "cell_type": "code",
      "execution_count": null,
      "metadata": {
        "id": "CAurih25RUg_"
      },
      "outputs": [],
      "source": [
        "model.compile(optimizer='adam', loss=keras.losses.categorical_crossentropy, metrics=['accuracy'])"
      ]
    },
    {
      "cell_type": "markdown",
      "source": [
        "El entrenamiento lo haremos con las imagenes originales, pero la validacion y pruebas con las imagenes con ruido. "
      ],
      "metadata": {
        "id": "IKMUERDVEENh"
      }
    },
    {
      "cell_type": "code",
      "execution_count": null,
      "metadata": {
        "id": "615q9rKZRbJu"
      },
      "outputs": [],
      "source": [
        "history = model.fit(x_train, y_train_labels, batch_size=64, epochs=20, validation_data=(x_val_noisy, y_val_labels))"
      ]
    },
    {
      "cell_type": "markdown",
      "metadata": {
        "id": "Fge6U-PJWTRa"
      },
      "source": [
        "### Visualización del proceso de entrenamiento. \n",
        "\n",
        "Aquí puedes ver si el entrenamiento está disminuyendo la pérdida o no. En este caso ya que el validation set (noisy) no corresponde con los datos originales vamos que el modelo no consigue aprender lo suficiente para clasificar las imágenes con ruido.\n",
        "\n",
        "En este caso, nuestro training set no es representativo de los datos esperados (noisy) y por dicha razón el entrenamiento no es idóneo."
      ]
    },
    {
      "cell_type": "code",
      "execution_count": null,
      "metadata": {
        "id": "R_3Y9evmRfh9"
      },
      "outputs": [],
      "source": [
        "# Loss curve\n",
        "plt.figure(figsize=[8,6])\n",
        "plt.plot(history.history['loss'], 'black', linewidth=2.0)\n",
        "plt.plot(history.history['val_loss'], 'green', linewidth=2.0)\n",
        "plt.legend(['Training Loss', 'Validation Loss'], fontsize=12)\n",
        "plt.xlabel('Epochs', fontsize=10)\n",
        "plt.ylabel('Loss', fontsize=10)\n",
        "plt.title('Loss Curves', fontsize=12)"
      ]
    },
    {
      "cell_type": "markdown",
      "metadata": {
        "id": "7hzHkn23W2Sq"
      },
      "source": [
        "Del mismo modo puedes observar la calidad de la predicción en el conjunto de test. Conforme avanzan las épocas, la exactitud de la predicción (Accuracy) se va incrementando. ¿Te parece que más épocas ayudarían al modelo?"
      ]
    },
    {
      "cell_type": "code",
      "execution_count": null,
      "metadata": {
        "id": "xRWHe1haWKZg"
      },
      "outputs": [],
      "source": [
        "plt.figure(figsize=[8,6])\n",
        "plt.plot(history.history['accuracy'], 'black', linewidth=2.0)\n",
        "plt.plot(history.history['val_accuracy'], 'blue', linewidth=2.0)\n",
        "plt.legend(['Training Accuracy', 'Validation Accuracy'], fontsize=12)\n",
        "plt.xlabel('Epochs', fontsize=10)\n",
        "plt.ylabel('Accuracy', fontsize=10)\n",
        "plt.title('Accuracy Curves', fontsize=12)"
      ]
    },
    {
      "cell_type": "code",
      "execution_count": null,
      "metadata": {
        "id": "9WTicX_pWyfp"
      },
      "outputs": [],
      "source": [
        "# Generacion de las predicciones\n",
        "pred = model.predict(x_test_noisy)\n",
        "print(pred)\n",
        "\n",
        "# Procesar las predicciones para obtener una sola clase para evaluar\n",
        "pred_classes = np.argmax(pred, axis=1)\n",
        "print(pred_classes)\n"
      ]
    },
    {
      "cell_type": "code",
      "execution_count": null,
      "metadata": {
        "id": "8Kc6xFbYYfj3"
      },
      "outputs": [],
      "source": [
        "# Graficar resultados actuales vs. pronosticados\n",
        "\n",
        "fig, axes = plt.subplots(5, 5, figsize=(15,15))\n",
        "axes = axes.ravel()\n",
        "\n",
        "for i in np.arange(0, 25):\n",
        "    axes[i].imshow(x_test_noisy[i])\n",
        "    axes[i].set_title(\"True: %s \\nPredict: %s\" % (class_names[np.argmax(y_test_labels[i])], class_names[pred_classes[i]]))\n",
        "    axes[i].axis('off')\n",
        "    plt.subplots_adjust(wspace=1)"
      ]
    },
    {
      "cell_type": "code",
      "execution_count": null,
      "metadata": {
        "id": "HcI-cTqQZGzT"
      },
      "outputs": [],
      "source": []
    },
    {
      "cell_type": "markdown",
      "source": [
        "## Evaluación de desempeño del modelo\n",
        "\n",
        "Nota cómo al pasar imágenes con ruido a un clasificador que no está preparado para ellas, el resultado de la clasificación se degrada bastante.\n",
        "\n",
        "### Ejercicio:\n",
        "\n",
        "Genera la matriz de confusión del modelo original, con el dataset ruidoso. Escribe tu respuesta a continuación. \n"
      ],
      "metadata": {
        "id": "hb48RD31MJGW"
      }
    },
    {
      "cell_type": "code",
      "execution_count": null,
      "metadata": {
        "id": "gntlowXWYjym"
      },
      "outputs": [],
      "source": [
        "## TIP: El código para calcular la matriz de confusión lo puedes obtener del ejercicio pasado\n"
      ]
    },
    {
      "cell_type": "code",
      "execution_count": null,
      "metadata": {
        "id": "yg0NF2GxZK-4"
      },
      "outputs": [],
      "source": []
    },
    {
      "cell_type": "markdown",
      "source": [
        "## Mejora del desempeño con aumentación de datos (Accion 3)\n",
        "\n",
        "Para tratar de disminuir el daño ocasionado por el ruido a nuestro clasificador, una técnica que podemos utilizar es la aumentación de datos. \n",
        "\n",
        "En este caso, entrenaremos el clasificador en las imágenes con y sin ruido, de tal forma que lo hagamos más robusto ante este fenómeno. \n",
        "\n",
        "Es decir, con esta técnica estamos haciendo que nuestro clasificador aprenda a clasificar imágenes con ruido y sin ruido.\n",
        "\n",
        "## Ejercicio:\n",
        "\n",
        "Genera un conjunto de datos aumentado x_train_aug y y_train_aug, concatenando los datos originales (x_train) con los datos con ruido (x_train_noisy) así como sus etiquetas de entrenamiento. "
      ],
      "metadata": {
        "id": "na2J6zWMMY02"
      }
    },
    {
      "cell_type": "code",
      "source": [
        "## Escribe aquí tu respuesta\n",
        "\n",
        "print(x_train_aug.shape)\n",
        "print(y_train_aug.shape)"
      ],
      "metadata": {
        "colab": {
          "base_uri": "https://localhost:8080/"
        },
        "id": "mxuqAKI4MrHy",
        "outputId": "ae0730a4-1b2d-45dd-8dd9-9a4c9814747b"
      },
      "execution_count": null,
      "outputs": [
        {
          "output_type": "stream",
          "name": "stdout",
          "text": [
            "(100000, 32, 32, 3)\n",
            "(100000, 10)\n"
          ]
        }
      ]
    },
    {
      "cell_type": "code",
      "source": [
        "# Entrenamos el modelo con el dataset aumentado, utilizamos las imagenes con ruido para validacion\n",
        "\n",
        "history = model.fit(x_train_aug, y_train_aug, batch_size=64, epochs=20, validation_data=(x_val_noisy, y_val_labels))\n"
      ],
      "metadata": {
        "colab": {
          "base_uri": "https://localhost:8080/"
        },
        "id": "B7f1_ImNM01B",
        "outputId": "2b832f70-a075-4d40-8a9d-00be7cd1d81a"
      },
      "execution_count": null,
      "outputs": [
        {
          "output_type": "stream",
          "name": "stdout",
          "text": [
            "Epoch 1/20\n",
            "1563/1563 [==============================] - 16s 10ms/step - loss: 1.0284 - accuracy: 0.6403 - val_loss: 1.1742 - val_accuracy: 0.5794\n",
            "Epoch 2/20\n",
            "1563/1563 [==============================] - 16s 10ms/step - loss: 0.9241 - accuracy: 0.6768 - val_loss: 1.0982 - val_accuracy: 0.6059\n",
            "Epoch 3/20\n",
            "1563/1563 [==============================] - 16s 10ms/step - loss: 0.8889 - accuracy: 0.6892 - val_loss: 1.0395 - val_accuracy: 0.6271\n",
            "Epoch 4/20\n",
            "1563/1563 [==============================] - 17s 11ms/step - loss: 0.8637 - accuracy: 0.6977 - val_loss: 1.0452 - val_accuracy: 0.6290\n",
            "Epoch 5/20\n",
            "1563/1563 [==============================] - 16s 10ms/step - loss: 0.8498 - accuracy: 0.7033 - val_loss: 1.0094 - val_accuracy: 0.6410\n",
            "Epoch 6/20\n",
            "1563/1563 [==============================] - 17s 11ms/step - loss: 0.8278 - accuracy: 0.7106 - val_loss: 1.0088 - val_accuracy: 0.6413\n",
            "Epoch 7/20\n",
            "1563/1563 [==============================] - 16s 10ms/step - loss: 0.8128 - accuracy: 0.7169 - val_loss: 1.0207 - val_accuracy: 0.6370\n",
            "Epoch 8/20\n",
            "1563/1563 [==============================] - 16s 10ms/step - loss: 0.8018 - accuracy: 0.7193 - val_loss: 0.9718 - val_accuracy: 0.6509\n",
            "Epoch 9/20\n",
            "1563/1563 [==============================] - 16s 10ms/step - loss: 0.7915 - accuracy: 0.7246 - val_loss: 0.9929 - val_accuracy: 0.6494\n",
            "Epoch 10/20\n",
            "1563/1563 [==============================] - 16s 10ms/step - loss: 0.7811 - accuracy: 0.7264 - val_loss: 0.9709 - val_accuracy: 0.6570\n",
            "Epoch 11/20\n",
            "1563/1563 [==============================] - 16s 10ms/step - loss: 0.7671 - accuracy: 0.7326 - val_loss: 0.9412 - val_accuracy: 0.6704\n",
            "Epoch 12/20\n",
            "1563/1563 [==============================] - 16s 10ms/step - loss: 0.7626 - accuracy: 0.7358 - val_loss: 0.9665 - val_accuracy: 0.6619\n",
            "Epoch 13/20\n",
            "1563/1563 [==============================] - 15s 10ms/step - loss: 0.7588 - accuracy: 0.7351 - val_loss: 0.9407 - val_accuracy: 0.6669\n",
            "Epoch 14/20\n",
            "1563/1563 [==============================] - 16s 10ms/step - loss: 0.7453 - accuracy: 0.7407 - val_loss: 0.9597 - val_accuracy: 0.6571\n",
            "Epoch 15/20\n",
            "1563/1563 [==============================] - 18s 11ms/step - loss: 0.7420 - accuracy: 0.7406 - val_loss: 0.9501 - val_accuracy: 0.6644\n",
            "Epoch 16/20\n",
            "1563/1563 [==============================] - 20s 13ms/step - loss: 0.7347 - accuracy: 0.7444 - val_loss: 0.9881 - val_accuracy: 0.6580\n",
            "Epoch 17/20\n",
            "1563/1563 [==============================] - 16s 10ms/step - loss: 0.7271 - accuracy: 0.7461 - val_loss: 0.9526 - val_accuracy: 0.6614\n",
            "Epoch 18/20\n",
            "1563/1563 [==============================] - 18s 11ms/step - loss: 0.7224 - accuracy: 0.7491 - val_loss: 0.9231 - val_accuracy: 0.6716\n",
            "Epoch 19/20\n",
            "1563/1563 [==============================] - 17s 11ms/step - loss: 0.7189 - accuracy: 0.7501 - val_loss: 0.9164 - val_accuracy: 0.6740\n",
            "Epoch 20/20\n",
            "1563/1563 [==============================] - 16s 10ms/step - loss: 0.7119 - accuracy: 0.7510 - val_loss: 0.9454 - val_accuracy: 0.6656\n"
          ]
        }
      ]
    },
    {
      "cell_type": "code",
      "source": [
        "# Loss curve\n",
        "plt.figure(figsize=[8,6])\n",
        "plt.plot(history.history['loss'], 'black', linewidth=2.0)\n",
        "plt.plot(history.history['val_loss'], 'green', linewidth=2.0)\n",
        "plt.legend(['Training Loss', 'Validation Loss'], fontsize=12)\n",
        "plt.xlabel('Epochs', fontsize=10)\n",
        "plt.ylabel('Loss', fontsize=10)\n",
        "plt.title('Loss Curves', fontsize=12)"
      ],
      "metadata": {
        "colab": {
          "base_uri": "https://localhost:8080/",
          "height": 421
        },
        "id": "gxv_s2stOdCW",
        "outputId": "10252e3a-a80d-47cd-d055-8aa082781792"
      },
      "execution_count": null,
      "outputs": [
        {
          "output_type": "execute_result",
          "data": {
            "text/plain": [
              "Text(0.5, 1.0, 'Loss Curves')"
            ]
          },
          "metadata": {},
          "execution_count": 21
        },
        {
          "output_type": "display_data",
          "data": {
            "text/plain": [
              "<Figure size 576x432 with 1 Axes>"
            ],
            "image/png": "[encoded data removed]"
          },
          "metadata": {
            "needs_background": "light"
          }
        }
      ]
    },
    {
      "cell_type": "markdown",
      "source": [
        "## Ejecutar predicciones del modelo \n",
        "\n",
        "Ejercicio: Utiliza x_test_noisy para obtener las etiquetas del dataset de pruebas con ruido.\n"
      ],
      "metadata": {
        "id": "sHSdPVC7cf1A"
      }
    },
    {
      "cell_type": "code",
      "source": [],
      "metadata": {
        "id": "UoONXuWQPlhz"
      },
      "execution_count": null,
      "outputs": []
    },
    {
      "cell_type": "markdown",
      "source": [
        "Ejercicio: Obten la matriz de confusión para el modelo aumentado."
      ],
      "metadata": {
        "id": "V0OJVtIvcvL0"
      }
    },
    {
      "cell_type": "code",
      "source": [],
      "metadata": {
        "id": "TKqJDShMP0d6"
      },
      "execution_count": null,
      "outputs": []
    },
    {
      "cell_type": "markdown",
      "source": [
        "Este resultado muestra cómo se ha recuperado una gran parte del poder predictivo del clasificador utilizando la aumentación de datos.\n",
        "\n",
        "Ahora tienes un clasificador capaz de procesar imágenes con un alto nivel de ruido.\n",
        "\n",
        "Sin embargo, este modelo no te permite obtener una versión sin ruido de la imagen, para lo cual es necesario implementar un autoencoder. \n",
        "\n",
        "Referencia: \n",
        "\n",
        "https://www.kaggle.com/code/ektasharma/simple-cifar10-cnn-keras-code-with-88-accuracy/notebook\n",
        "\n"
      ],
      "metadata": {
        "id": "-38xLUsERAKx"
      }
    },
    {
      "cell_type": "code",
      "source": [],
      "metadata": {
        "id": "YCpQ5P-sRKVh"
      },
      "execution_count": null,
      "outputs": []
    }
  ],
  "metadata": {
    "accelerator": "GPU",
    "colab": {
      "collapsed_sections": [],
      "provenance": [],
      "authorship_tag": "ABX9TyPpdGked3ha+9PecVUaMO1x",
      "include_colab_link": true
    },
    "gpuClass": "standard",
    "kernelspec": {
      "display_name": "Python 3",
      "name": "python3"
    },
    "language_info": {
      "name": "python"
    }
  },
  "nbformat": 4,
  "nbformat_minor": 0
}