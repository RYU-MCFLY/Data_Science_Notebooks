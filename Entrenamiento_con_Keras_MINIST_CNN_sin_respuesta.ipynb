{
  "cells": [
    {
      "cell_type": "markdown",
      "metadata": {
        "id": "view-in-github",
        "colab_type": "text"
      },
      "source": [
        "<a href=\"https://colab.research.google.com/github/tozanni/Data_Science_Notebooks/blob/main/Entrenamiento_con_Keras_MINIST_CNN_sin_respuesta.ipynb\" target=\"_parent\"><img src=\"https://colab.research.google.com/assets/colab-badge.svg\" alt=\"Open In Colab\"/></a>"
      ]
    },
    {
      "cell_type": "markdown",
      "source": [
        "** Ejemplo: Clasificador de imágenes usando Keras**\n",
        "Actividad integradora 3\n",
        "\n",
        "Realiza las siguientes actividades en el cuaderno:\n",
        "\n",
        "1) Utiliza el API secuencial para crear dos capas convolucionales de las siguientes características: \n",
        "\n",
        "- 32 filtros, kernel de 3x3\n",
        "- 64 filtros, con kernel de 3x3.\n",
        "\n",
        "2) Después de cada capa convolucional, agrega una capa de Max Pooling 2D con tamaño 2x2.\n",
        "\n",
        "3) Ejecuta las celdas y obten un valor de pérdida (loss) y accuracy después del entrenamiento\n",
        "\n",
        "4) Compara tus resultados con los de la red MLP"
      ],
      "metadata": {
        "id": "jbTIttHDZuG2"
      }
    },
    {
      "cell_type": "markdown",
      "source": [
        "**Introducción**\n",
        "\n",
        "Para ilustrar la manera en que Keras es usado en el aprendizaje profundo, realizaremos un ejemplo de clasificación usando conjunto de datos Fashion MNIST el cual consta de 70,000 imágenes (las imágenes representan artículos de moda) en escala de grises de 28 × 28 píxeles cada una y con 10 clases. "
      ],
      "metadata": {
        "id": "BF84XR1GIk4h"
      }
    },
    {
      "cell_type": "code",
      "execution_count": null,
      "metadata": {
        "id": "pTyxxkKmUXhO"
      },
      "outputs": [],
      "source": [
        "import numpy as np\n",
        "from tensorflow import keras\n",
        "from tensorflow.keras import layers\n",
        "import matplotlib.pyplot as plt "
      ]
    },
    {
      "cell_type": "markdown",
      "source": [
        "**Cargar el conjunto de datos**\n",
        "\n",
        "Keras tiene una serie de funciones para cargar conjuntos de datos populares en keras.datasets. El conjunto de datos ya está dividido entre un conjunto de entrenamiento y un conjunto de prueba, pero puede ser útil dividir aún más el conjunto de entrenamiento para tener un conjunto de validación.\n",
        "\n",
        "También escalamos las intensidades de píxeles en el rango 0-1 y las convertimos en flotantes al dividiéndolas por 255.\n",
        "\n"
      ],
      "metadata": {
        "id": "oVzQZADlIrd2"
      }
    },
    {
      "cell_type": "code",
      "execution_count": null,
      "metadata": {
        "id": "3UQtEqjYUXhS"
      },
      "outputs": [],
      "source": [
        "# Model / data parameters\n",
        "num_classes = 10\n",
        "input_shape = (28, 28, 1)\n",
        "\n",
        "# the data, split between train and test sets\n",
        "(x_train, y_train), (x_test, y_test) = keras.datasets.mnist.load_data()\n",
        "\n",
        "# Scale images to the [0, 1] range\n",
        "x_train = x_train.astype(\"float32\") / 255\n",
        "x_test = x_test.astype(\"float32\") / 255\n",
        "# Make sure images have shape (28, 28, 1)\n",
        "x_train = np.expand_dims(x_train, -1)\n",
        "x_test = np.expand_dims(x_test, -1)\n",
        "print(\"x_train shape:\", x_train.shape)\n",
        "print(x_train.shape[0], \"train samples\")\n",
        "print(x_test.shape[0], \"test samples\")\n",
        "\n",
        "\n",
        "# convert class vectors to binary class matrices\n",
        "y_train = keras.utils.to_categorical(y_train, num_classes)\n",
        "y_test = keras.utils.to_categorical(y_test, num_classes)"
      ]
    },
    {
      "cell_type": "markdown",
      "source": [
        "**Modelo de aprendizaje profundo en Keras**\n",
        "\n",
        "**COMPLETA ESTA SECCION**\n",
        "\n",
        "Puedes notar que existen dos nuevos tipos de capas Flatten y Dropout, la capa Flatten es necesaria para convertir un volumen a una estructura 1D para poder entrenar capas densas al final de la red y crear clasificadores.\n",
        "\n",
        "La capa Dropout se utiliza para prevenir el overfit."
      ],
      "metadata": {
        "id": "IjcsS6J-OqZX"
      }
    },
    {
      "cell_type": "code",
      "execution_count": null,
      "metadata": {
        "id": "kVVbHAfLUXhV"
      },
      "outputs": [],
      "source": [
        "model = keras.Sequential(\n",
        "    [\n",
        "        keras.Input(shape=input_shape),\n",
        "        # Completa AQUI las capas de este modelo\n",
        "     \n",
        "        layers.Flatten(),\n",
        "        layers.Dropout(0.5),\n",
        "        layers.Dense(num_classes, activation=\"softmax\"),\n",
        "    ]\n",
        ")\n",
        "\n",
        "model.summary()"
      ]
    },
    {
      "cell_type": "markdown",
      "source": [
        "Después de crear un modelo, se debe llamar el método compile() para especificar la función de pérdida y el optimizador a utilizar. Opcionalmente, también puede especificar una lista de métricas para calcular durante el entrenamiento y la evaluación:"
      ],
      "metadata": {
        "id": "H7QsrDUFO8s6"
      }
    },
    {
      "cell_type": "code",
      "execution_count": null,
      "metadata": {
        "id": "raY4XICUUXhX"
      },
      "outputs": [],
      "source": [
        "batch_size = 128\n",
        "epochs = 5\n",
        "\n",
        "model.compile(loss=\"categorical_crossentropy\", optimizer=\"adam\", metrics=[\"accuracy\"])\n",
        "\n",
        "model.fit(x_train, y_train, batch_size=batch_size, epochs=epochs, validation_split=0.1)"
      ]
    },
    {
      "cell_type": "markdown",
      "source": [
        "**Nota**\n",
        "\n",
        "Utilizamos la función de pérdida *categorical_crossentropy* cuando haya dos o más clases de etiquetas. Esperamos que se proporcionen etiquetas en una representación *one_hot* \n",
        "\n",
        "https://keras.io/api/losses/probabilistic_losses/#categoricalcrossentropy-class\n"
      ],
      "metadata": {
        "id": "vqJDwmd3ok7D"
      }
    }
  ],
  "metadata": {
    "colab": {
      "collapsed_sections": [],
      "name": "Entrenamiento con Keras_MINIST_CNN_sin_respuesta",
      "provenance": [],
      "private_outputs": true,
      "include_colab_link": true
    },
    "kernelspec": {
      "display_name": "Python 3",
      "language": "python",
      "name": "python3"
    },
    "language_info": {
      "codemirror_mode": {
        "name": "ipython",
        "version": 3
      },
      "file_extension": ".py",
      "mimetype": "text/x-python",
      "name": "python",
      "nbconvert_exporter": "python",
      "pygments_lexer": "ipython3",
      "version": "3.7.0"
    },
    "accelerator": "GPU"
  },
  "nbformat": 4,
  "nbformat_minor": 0
}