{
  "nbformat": 4,
  "nbformat_minor": 0,
  "metadata": {
    "colab": {
      "name": "DL Ejemplo de RNN para Series de Tiempo.ipynb",
      "provenance": [],
      "authorship_tag": "ABX9TyPecKFzIju4FhDZA3wur068",
      "include_colab_link": true
    },
    "kernelspec": {
      "name": "python3",
      "display_name": "Python 3"
    },
    "language_info": {
      "name": "python"
    }
  },
  "cells": [
    {
      "cell_type": "markdown",
      "metadata": {
        "id": "view-in-github",
        "colab_type": "text"
      },
      "source": [
        "<a href=\"https://colab.research.google.com/github/tozanni/Data_Science_Notebooks/blob/main/DL_Ejemplo_de_RNN_para_Series_de_Tiempo.ipynb\" target=\"_parent\"><img src=\"https://colab.research.google.com/assets/colab-badge.svg\" alt=\"Open In Colab\"/></a>"
      ]
    },
    {
      "cell_type": "markdown",
      "source": [
        "Para este ejercicio utilizaremos los datos de clima de Australia, puedes descargarlos de Kaggle o alternativamente utilizar este repositorio.\n",
        "\n",
        "https://github.com/tozanni/Data_Science_Notebooks/blob/main/weatherAUS.csv\n",
        "\n",
        "Referencias adicionales:\n",
        "\n",
        "https://towardsdatascience.com/rnn-recurrent-neural-networks-how-to-successfully-model-sequential-data-in-python-5a0b9e494f92\n",
        "\n",
        "https://scikit-learn.org/stable/modules/generated/sklearn.model_selection.TimeSeriesSplit.html"
      ],
      "metadata": {
        "id": "nqan1hz19nuf"
      }
    },
    {
      "cell_type": "code",
      "source": [
        "from tensorflow import keras\n",
        "import pandas as pd\n",
        "import numpy as np\n",
        "import math\n",
        "import sklearn\n"
      ],
      "metadata": {
        "id": "XyUeXRFKAaZV"
      },
      "execution_count": 16,
      "outputs": []
    },
    {
      "cell_type": "code",
      "source": [
        "# Cargar datos usando RAW CSV\n",
        "df = pd.read_csv('https://raw.githubusercontent.com/tozanni/Data_Science_Notebooks/main/weatherAUS.csv')\n",
        "\n",
        "# Limpieza de datos\n",
        "df=df[pd.isnull(df['MinTemp'])==False]\n",
        "df=df[pd.isnull(df['MaxTemp'])==False]\n",
        "\n",
        "# Calcular temperatura media diaria\n",
        "df['MedTemp']=df[['MinTemp', 'MaxTemp']].median(axis=1)\n",
        "\n",
        "df.head()"
      ],
      "metadata": {
        "colab": {
          "base_uri": "https://localhost:8080/",
          "height": 386
        },
        "id": "nITwIuG_BaVG",
        "outputId": "a4b57b19-4e5f-4eec-bf6e-28a1f925ce9f"
      },
      "execution_count": 17,
      "outputs": [
        {
          "output_type": "execute_result",
          "data": {
            "text/plain": [
              "         Date Location  MinTemp  MaxTemp  Rainfall  Evaporation  Sunshine  \\\n",
              "0  2008-12-01   Albury     13.4     22.9       0.6          NaN       NaN   \n",
              "1  2008-12-02   Albury      7.4     25.1       0.0          NaN       NaN   \n",
              "2  2008-12-03   Albury     12.9     25.7       0.0          NaN       NaN   \n",
              "3  2008-12-04   Albury      9.2     28.0       0.0          NaN       NaN   \n",
              "4  2008-12-05   Albury     17.5     32.3       1.0          NaN       NaN   \n",
              "\n",
              "  WindGustDir  WindGustSpeed WindDir9am  ... Humidity3pm  Pressure9am  \\\n",
              "0           W           44.0          W  ...        22.0       1007.7   \n",
              "1         WNW           44.0        NNW  ...        25.0       1010.6   \n",
              "2         WSW           46.0          W  ...        30.0       1007.6   \n",
              "3          NE           24.0         SE  ...        16.0       1017.6   \n",
              "4           W           41.0        ENE  ...        33.0       1010.8   \n",
              "\n",
              "   Pressure3pm  Cloud9am  Cloud3pm  Temp9am  Temp3pm  RainToday  RainTomorrow  \\\n",
              "0       1007.1       8.0       NaN     16.9     21.8         No            No   \n",
              "1       1007.8       NaN       NaN     17.2     24.3         No            No   \n",
              "2       1008.7       NaN       2.0     21.0     23.2         No            No   \n",
              "3       1012.8       NaN       NaN     18.1     26.5         No            No   \n",
              "4       1006.0       7.0       8.0     17.8     29.7         No            No   \n",
              "\n",
              "   MedTemp  \n",
              "0    18.15  \n",
              "1    16.25  \n",
              "2    19.30  \n",
              "3    18.60  \n",
              "4    24.90  \n",
              "\n",
              "[5 rows x 24 columns]"
            ],
            "text/html": [
              "\n",
              "  <div id=\"df-a23eace7-7355-461c-87c8-94fc27c1cd7d\">\n",
              "    <div class=\"colab-df-container\">\n",
              "      <div>\n",
              "<style scoped>\n",
              "    .dataframe tbody tr th:only-of-type {\n",
              "        vertical-align: middle;\n",
              "    }\n",
              "\n",
              "    .dataframe tbody tr th {\n",
              "        vertical-align: top;\n",
              "    }\n",
              "\n",
              "    .dataframe thead th {\n",
              "        text-align: right;\n",
              "    }\n",
              "</style>\n",
              "<table border=\"1\" class=\"dataframe\">\n",
              "  <thead>\n",
              "    <tr style=\"text-align: right;\">\n",
              "      <th></th>\n",
              "      <th>Date</th>\n",
              "      <th>Location</th>\n",
              "      <th>MinTemp</th>\n",
              "      <th>MaxTemp</th>\n",
              "      <th>Rainfall</th>\n",
              "      <th>Evaporation</th>\n",
              "      <th>Sunshine</th>\n",
              "      <th>WindGustDir</th>\n",
              "      <th>WindGustSpeed</th>\n",
              "      <th>WindDir9am</th>\n",
              "      <th>...</th>\n",
              "      <th>Humidity3pm</th>\n",
              "      <th>Pressure9am</th>\n",
              "      <th>Pressure3pm</th>\n",
              "      <th>Cloud9am</th>\n",
              "      <th>Cloud3pm</th>\n",
              "      <th>Temp9am</th>\n",
              "      <th>Temp3pm</th>\n",
              "      <th>RainToday</th>\n",
              "      <th>RainTomorrow</th>\n",
              "      <th>MedTemp</th>\n",
              "    </tr>\n",
              "  </thead>\n",
              "  <tbody>\n",
              "    <tr>\n",
              "      <th>0</th>\n",
              "      <td>2008-12-01</td>\n",
              "      <td>Albury</td>\n",
              "      <td>13.4</td>\n",
              "      <td>22.9</td>\n",
              "      <td>0.6</td>\n",
              "      <td>NaN</td>\n",
              "      <td>NaN</td>\n",
              "      <td>W</td>\n",
              "      <td>44.0</td>\n",
              "      <td>W</td>\n",
              "      <td>...</td>\n",
              "      <td>22.0</td>\n",
              "      <td>1007.7</td>\n",
              "      <td>1007.1</td>\n",
              "      <td>8.0</td>\n",
              "      <td>NaN</td>\n",
              "      <td>16.9</td>\n",
              "      <td>21.8</td>\n",
              "      <td>No</td>\n",
              "      <td>No</td>\n",
              "      <td>18.15</td>\n",
              "    </tr>\n",
              "    <tr>\n",
              "      <th>1</th>\n",
              "      <td>2008-12-02</td>\n",
              "      <td>Albury</td>\n",
              "      <td>7.4</td>\n",
              "      <td>25.1</td>\n",
              "      <td>0.0</td>\n",
              "      <td>NaN</td>\n",
              "      <td>NaN</td>\n",
              "      <td>WNW</td>\n",
              "      <td>44.0</td>\n",
              "      <td>NNW</td>\n",
              "      <td>...</td>\n",
              "      <td>25.0</td>\n",
              "      <td>1010.6</td>\n",
              "      <td>1007.8</td>\n",
              "      <td>NaN</td>\n",
              "      <td>NaN</td>\n",
              "      <td>17.2</td>\n",
              "      <td>24.3</td>\n",
              "      <td>No</td>\n",
              "      <td>No</td>\n",
              "      <td>16.25</td>\n",
              "    </tr>\n",
              "    <tr>\n",
              "      <th>2</th>\n",
              "      <td>2008-12-03</td>\n",
              "      <td>Albury</td>\n",
              "      <td>12.9</td>\n",
              "      <td>25.7</td>\n",
              "      <td>0.0</td>\n",
              "      <td>NaN</td>\n",
              "      <td>NaN</td>\n",
              "      <td>WSW</td>\n",
              "      <td>46.0</td>\n",
              "      <td>W</td>\n",
              "      <td>...</td>\n",
              "      <td>30.0</td>\n",
              "      <td>1007.6</td>\n",
              "      <td>1008.7</td>\n",
              "      <td>NaN</td>\n",
              "      <td>2.0</td>\n",
              "      <td>21.0</td>\n",
              "      <td>23.2</td>\n",
              "      <td>No</td>\n",
              "      <td>No</td>\n",
              "      <td>19.30</td>\n",
              "    </tr>\n",
              "    <tr>\n",
              "      <th>3</th>\n",
              "      <td>2008-12-04</td>\n",
              "      <td>Albury</td>\n",
              "      <td>9.2</td>\n",
              "      <td>28.0</td>\n",
              "      <td>0.0</td>\n",
              "      <td>NaN</td>\n",
              "      <td>NaN</td>\n",
              "      <td>NE</td>\n",
              "      <td>24.0</td>\n",
              "      <td>SE</td>\n",
              "      <td>...</td>\n",
              "      <td>16.0</td>\n",
              "      <td>1017.6</td>\n",
              "      <td>1012.8</td>\n",
              "      <td>NaN</td>\n",
              "      <td>NaN</td>\n",
              "      <td>18.1</td>\n",
              "      <td>26.5</td>\n",
              "      <td>No</td>\n",
              "      <td>No</td>\n",
              "      <td>18.60</td>\n",
              "    </tr>\n",
              "    <tr>\n",
              "      <th>4</th>\n",
              "      <td>2008-12-05</td>\n",
              "      <td>Albury</td>\n",
              "      <td>17.5</td>\n",
              "      <td>32.3</td>\n",
              "      <td>1.0</td>\n",
              "      <td>NaN</td>\n",
              "      <td>NaN</td>\n",
              "      <td>W</td>\n",
              "      <td>41.0</td>\n",
              "      <td>ENE</td>\n",
              "      <td>...</td>\n",
              "      <td>33.0</td>\n",
              "      <td>1010.8</td>\n",
              "      <td>1006.0</td>\n",
              "      <td>7.0</td>\n",
              "      <td>8.0</td>\n",
              "      <td>17.8</td>\n",
              "      <td>29.7</td>\n",
              "      <td>No</td>\n",
              "      <td>No</td>\n",
              "      <td>24.90</td>\n",
              "    </tr>\n",
              "  </tbody>\n",
              "</table>\n",
              "<p>5 rows × 24 columns</p>\n",
              "</div>\n",
              "      <button class=\"colab-df-convert\" onclick=\"convertToInteractive('df-a23eace7-7355-461c-87c8-94fc27c1cd7d')\"\n",
              "              title=\"Convert this dataframe to an interactive table.\"\n",
              "              style=\"display:none;\">\n",
              "        \n",
              "  <svg xmlns=\"http://www.w3.org/2000/svg\" height=\"24px\"viewBox=\"0 0 24 24\"\n",
              "       width=\"24px\">\n",
              "    <path d=\"M0 0h24v24H0V0z\" fill=\"none\"/>\n",
              "    <path d=\"M18.56 5.44l.94 2.06.94-2.06 2.06-.94-2.06-.94-.94-2.06-.94 2.06-2.06.94zm-11 1L8.5 8.5l.94-2.06 2.06-.94-2.06-.94L8.5 2.5l-.94 2.06-2.06.94zm10 10l.94 2.06.94-2.06 2.06-.94-2.06-.94-.94-2.06-.94 2.06-2.06.94z\"/><path d=\"M17.41 7.96l-1.37-1.37c-.4-.4-.92-.59-1.43-.59-.52 0-1.04.2-1.43.59L10.3 9.45l-7.72 7.72c-.78.78-.78 2.05 0 2.83L4 21.41c.39.39.9.59 1.41.59.51 0 1.02-.2 1.41-.59l7.78-7.78 2.81-2.81c.8-.78.8-2.07 0-2.86zM5.41 20L4 18.59l7.72-7.72 1.47 1.35L5.41 20z\"/>\n",
              "  </svg>\n",
              "      </button>\n",
              "      \n",
              "  <style>\n",
              "    .colab-df-container {\n",
              "      display:flex;\n",
              "      flex-wrap:wrap;\n",
              "      gap: 12px;\n",
              "    }\n",
              "\n",
              "    .colab-df-convert {\n",
              "      background-color: #E8F0FE;\n",
              "      border: none;\n",
              "      border-radius: 50%;\n",
              "      cursor: pointer;\n",
              "      display: none;\n",
              "      fill: #1967D2;\n",
              "      height: 32px;\n",
              "      padding: 0 0 0 0;\n",
              "      width: 32px;\n",
              "    }\n",
              "\n",
              "    .colab-df-convert:hover {\n",
              "      background-color: #E2EBFA;\n",
              "      box-shadow: 0px 1px 2px rgba(60, 64, 67, 0.3), 0px 1px 3px 1px rgba(60, 64, 67, 0.15);\n",
              "      fill: #174EA6;\n",
              "    }\n",
              "\n",
              "    [theme=dark] .colab-df-convert {\n",
              "      background-color: #3B4455;\n",
              "      fill: #D2E3FC;\n",
              "    }\n",
              "\n",
              "    [theme=dark] .colab-df-convert:hover {\n",
              "      background-color: #434B5C;\n",
              "      box-shadow: 0px 1px 3px 1px rgba(0, 0, 0, 0.15);\n",
              "      filter: drop-shadow(0px 1px 2px rgba(0, 0, 0, 0.3));\n",
              "      fill: #FFFFFF;\n",
              "    }\n",
              "  </style>\n",
              "\n",
              "      <script>\n",
              "        const buttonEl =\n",
              "          document.querySelector('#df-a23eace7-7355-461c-87c8-94fc27c1cd7d button.colab-df-convert');\n",
              "        buttonEl.style.display =\n",
              "          google.colab.kernel.accessAllowed ? 'block' : 'none';\n",
              "\n",
              "        async function convertToInteractive(key) {\n",
              "          const element = document.querySelector('#df-a23eace7-7355-461c-87c8-94fc27c1cd7d');\n",
              "          const dataTable =\n",
              "            await google.colab.kernel.invokeFunction('convertToInteractive',\n",
              "                                                     [key], {});\n",
              "          if (!dataTable) return;\n",
              "\n",
              "          const docLinkHtml = 'Like what you see? Visit the ' +\n",
              "            '<a target=\"_blank\" href=https://colab.research.google.com/notebooks/data_table.ipynb>data table notebook</a>'\n",
              "            + ' to learn more about interactive tables.';\n",
              "          element.innerHTML = '';\n",
              "          dataTable['output_type'] = 'display_data';\n",
              "          await google.colab.output.renderOutput(dataTable, element);\n",
              "          const docLink = document.createElement('div');\n",
              "          docLink.innerHTML = docLinkHtml;\n",
              "          element.appendChild(docLink);\n",
              "        }\n",
              "      </script>\n",
              "    </div>\n",
              "  </div>\n",
              "  "
            ]
          },
          "metadata": {},
          "execution_count": 17
        }
      ]
    },
    {
      "cell_type": "code",
      "source": [
        "# Seleccionar una ciudad, ej. Canberra y graficar sus temperaturas medias en el tiempo\n",
        "\n",
        "dfc=df[df['Location']=='Canberra'].copy()\n",
        "dfc.set_index('Date',inplace=True) #Indexar por fecha\n",
        "dfc['MedTemp'].plot(rot=90) #Graficar temperatura media, rotar etiquetas"
      ],
      "metadata": {
        "colab": {
          "base_uri": "https://localhost:8080/",
          "height": 345
        },
        "id": "UaoWTErcDBk-",
        "outputId": "072cd875-6593-4c31-f469-828c7ffd9728"
      },
      "execution_count": 18,
      "outputs": [
        {
          "output_type": "execute_result",
          "data": {
            "text/plain": [
              "<matplotlib.axes._subplots.AxesSubplot at 0x7fecdbd1c190>"
            ]
          },
          "metadata": {},
          "execution_count": 18
        },
        {
          "output_type": "display_data",
          "data": {
            "text/plain": [
              "<Figure size 432x288 with 1 Axes>"
            ],
            "image/png": "[encoded data removed]"
          },
          "metadata": {
            "needs_background": "light"
          }
        }
      ]
    },
    {
      "cell_type": "markdown",
      "source": [
        "Nuestra red RNN recibe secuencias de 7 dias para realizar la prediccion del siguiente día, es necesario convertir los datos a una serie de secuencias de 7 días y asociar cada serie de 7 dias a su siguiente valor."
      ],
      "metadata": {
        "id": "nWk40lKxEk0I"
      }
    },
    {
      "cell_type": "code",
      "source": [
        "# Autor:\n",
        "# https://towardsdatascience.com/rnn-recurrent-neural-networks-how-to-successfully-model-sequential-data-in-python-5a0b9e494f92\n",
        "\n",
        "def prep_data(datain, time_step):\n",
        "    y_indices = np.arange(start=time_step, stop=len(datain), step=time_step)\n",
        "    y_tmp = datain[y_indices]\n",
        "    rows_X = len(y_tmp)\n",
        "    X_tmp = datain[range(time_step*rows_X)]\n",
        "    X_tmp = np.reshape(X_tmp, (rows_X, time_step, 1))\n",
        "    return X_tmp, y_tmp\n"
      ],
      "metadata": {
        "id": "7M_Ort9KDiaP"
      },
      "execution_count": 19,
      "outputs": []
    },
    {
      "cell_type": "code",
      "source": [
        "# Agregamos un eje a los datos para que las temperaturas sean una columna\n",
        "temp = dfc['MedTemp'].values.reshape(-1, 1)\n",
        "\n",
        "# Escalamiento\n",
        "from sklearn.preprocessing import MinMaxScaler\n",
        "scaler = MinMaxScaler()\n",
        "X = scaler.fit_transform(temp)\n",
        "\n",
        "# Visualizando los datos escalados\n",
        "X"
      ],
      "metadata": {
        "colab": {
          "base_uri": "https://localhost:8080/"
        },
        "id": "NLPgB2Z0FORj",
        "outputId": "ca1284dd-cfa4-431c-e3ed-75d6e9a4f384"
      },
      "execution_count": 20,
      "outputs": [
        {
          "output_type": "execute_result",
          "data": {
            "text/plain": [
              "array([[0.51351351],\n",
              "       [0.65878378],\n",
              "       [0.59459459],\n",
              "       ...,\n",
              "       [0.14358108],\n",
              "       [0.21283784],\n",
              "       [0.1402027 ]])"
            ]
          },
          "metadata": {},
          "execution_count": 20
        }
      ]
    },
    {
      "cell_type": "markdown",
      "source": [
        "## Creación de conjuntos de training y test.\n",
        "\n",
        "Ojo aquí, Sklearn cuenta con un método para hacer split para series de tiempo (Time Series Split) que es más correcto utilizar ya que no mezcla períodos de training y test.  Si utilizas el método normal de \"train_test_split\" puedes utilizar implícitamente algunos datos del futuro en tu entrenamiento, lo cual es un errór metodológico conocido como \"future leakage\"\n"
      ],
      "metadata": {
        "id": "nuAPUtvYHVy4"
      }
    },
    {
      "cell_type": "code",
      "source": [
        "from sklearn.model_selection import TimeSeriesSplit\n",
        "tscv = TimeSeriesSplit(n_splits=2)\n",
        "\n",
        "for train_index, test_index in tscv.split(X):\n",
        "  print(\"TRAIN:\", train_index, \"TEST:\", test_index)\n",
        "  training_set, test_set = X[train_index], X[test_index]\n"
      ],
      "metadata": {
        "colab": {
          "base_uri": "https://localhost:8080/"
        },
        "id": "42NtHgHqFpY-",
        "outputId": "7b903837-02b8-48dc-ec7d-768206801abb"
      },
      "execution_count": 21,
      "outputs": [
        {
          "output_type": "stream",
          "name": "stdout",
          "text": [
            "TRAIN: [   0    1    2 ... 1141 1142 1143] TEST: [1144 1145 1146 ... 2283 2284 2285]\n",
            "TRAIN: [   0    1    2 ... 2283 2284 2285] TEST: [2286 2287 2288 ... 3425 3426 3427]\n"
          ]
        }
      ]
    },
    {
      "cell_type": "code",
      "source": [
        "len(training_set), len(test_set)"
      ],
      "metadata": {
        "colab": {
          "base_uri": "https://localhost:8080/"
        },
        "id": "ViiAM2wkIkOk",
        "outputId": "142ce44b-eb3a-4979-bf49-1d3513974789"
      },
      "execution_count": 22,
      "outputs": [
        {
          "output_type": "execute_result",
          "data": {
            "text/plain": [
              "(2286, 1142)"
            ]
          },
          "metadata": {},
          "execution_count": 22
        }
      ]
    },
    {
      "cell_type": "code",
      "source": [
        "## Preparar los arreglos de input utilizando la funcion previa para producir \n",
        "## secuencias de 7 timesteps \n",
        "\n",
        "time_step = 7\n",
        "X_train, y_train = prep_data(training_set, time_step)\n",
        "X_test, y_test = prep_data(test_set, time_step)"
      ],
      "metadata": {
        "id": "7b0e4k65KB1b"
      },
      "execution_count": 23,
      "outputs": []
    },
    {
      "cell_type": "code",
      "source": [
        "# Ejemplo de lo que pasaremos a nuestra red RNN para entrenar\n",
        "# Una secuencia de 7 dias y un ejemplo del siguiente valor\n",
        "\n",
        "X_train[0], y_train[0]"
      ],
      "metadata": {
        "colab": {
          "base_uri": "https://localhost:8080/"
        },
        "id": "VROJ1Af-KSVf",
        "outputId": "686c00d6-35e6-44b5-a40a-c065bb0bfb31"
      },
      "execution_count": 24,
      "outputs": [
        {
          "output_type": "execute_result",
          "data": {
            "text/plain": [
              "(array([[0.51351351],\n",
              "        [0.65878378],\n",
              "        [0.59459459],\n",
              "        [0.45439189],\n",
              "        [0.36824324],\n",
              "        [0.35810811],\n",
              "        [0.37837838]]), array([0.39527027]))"
            ]
          },
          "metadata": {},
          "execution_count": 24
        }
      ]
    },
    {
      "cell_type": "code",
      "source": [
        ""
      ],
      "metadata": {
        "id": "WLdci3WHK4IC"
      },
      "execution_count": 24,
      "outputs": []
    },
    {
      "cell_type": "markdown",
      "source": [
        "## Creación de la RNN con Keras"
      ],
      "metadata": {
        "id": "pEUTl6a-Ll09"
      }
    },
    {
      "cell_type": "code",
      "source": [
        "##### Step 4 - Specify the structure of a Neural Network\n",
        "\n",
        "from keras.models import Sequential\n",
        "from keras.layers import Input, Dense, SimpleRNN\n",
        "\n",
        "model = Sequential() \n",
        "model.add(Input(shape=(time_step,1))) #Se especifica la forma del input 7x1\n",
        "model.add(SimpleRNN(units=1, activation='tanh')) #Capa recurrente de 1 neurona\n",
        "model.add(Dense(units=1, activation='tanh')) \n",
        "model.add(Dense(units=1, activation='linear'))\n",
        "\n",
        "model.compile(loss='mean_squared_error')"
      ],
      "metadata": {
        "id": "WeQ3WneWLoJh"
      },
      "execution_count": 25,
      "outputs": []
    },
    {
      "cell_type": "code",
      "source": [
        "model.fit(X_train, y_train, batch_size=1, epochs=20, validation_split=0.2)"
      ],
      "metadata": {
        "colab": {
          "base_uri": "https://localhost:8080/"
        },
        "id": "onm2FcBlL1AZ",
        "outputId": "8843ad8c-1996-4bb5-b5e3-6f195e1c269f"
      },
      "execution_count": 26,
      "outputs": [
        {
          "output_type": "stream",
          "name": "stdout",
          "text": [
            "Epoch 1/20\n",
            "260/260 [==============================] - 2s 4ms/step - loss: 0.1247 - val_loss: 0.0141\n",
            "Epoch 2/20\n",
            "260/260 [==============================] - 1s 3ms/step - loss: 0.0135 - val_loss: 0.0125\n",
            "Epoch 3/20\n",
            "260/260 [==============================] - 1s 3ms/step - loss: 0.0117 - val_loss: 0.0121\n",
            "Epoch 4/20\n",
            "260/260 [==============================] - 1s 3ms/step - loss: 0.0110 - val_loss: 0.0118\n",
            "Epoch 5/20\n",
            "260/260 [==============================] - 1s 3ms/step - loss: 0.0106 - val_loss: 0.0114\n",
            "Epoch 6/20\n",
            "260/260 [==============================] - 1s 3ms/step - loss: 0.0102 - val_loss: 0.0120\n",
            "Epoch 7/20\n",
            "260/260 [==============================] - 1s 3ms/step - loss: 0.0103 - val_loss: 0.0106\n",
            "Epoch 8/20\n",
            "260/260 [==============================] - 1s 3ms/step - loss: 0.0100 - val_loss: 0.0104\n",
            "Epoch 9/20\n",
            "260/260 [==============================] - 1s 3ms/step - loss: 0.0098 - val_loss: 0.0108\n",
            "Epoch 10/20\n",
            "260/260 [==============================] - 1s 3ms/step - loss: 0.0093 - val_loss: 0.0128\n",
            "Epoch 11/20\n",
            "260/260 [==============================] - 1s 3ms/step - loss: 0.0094 - val_loss: 0.0098\n",
            "Epoch 12/20\n",
            "260/260 [==============================] - 1s 3ms/step - loss: 0.0092 - val_loss: 0.0100\n",
            "Epoch 13/20\n",
            "260/260 [==============================] - 1s 3ms/step - loss: 0.0090 - val_loss: 0.0094\n",
            "Epoch 14/20\n",
            "260/260 [==============================] - 1s 3ms/step - loss: 0.0089 - val_loss: 0.0093\n",
            "Epoch 15/20\n",
            "260/260 [==============================] - 1s 3ms/step - loss: 0.0087 - val_loss: 0.0092\n",
            "Epoch 16/20\n",
            "260/260 [==============================] - 1s 3ms/step - loss: 0.0085 - val_loss: 0.0089\n",
            "Epoch 17/20\n",
            "260/260 [==============================] - 1s 3ms/step - loss: 0.0084 - val_loss: 0.0088\n",
            "Epoch 18/20\n",
            "260/260 [==============================] - 1s 3ms/step - loss: 0.0082 - val_loss: 0.0086\n",
            "Epoch 19/20\n",
            "260/260 [==============================] - 1s 3ms/step - loss: 0.0081 - val_loss: 0.0085\n",
            "Epoch 20/20\n",
            "260/260 [==============================] - 1s 3ms/step - loss: 0.0079 - val_loss: 0.0095\n"
          ]
        },
        {
          "output_type": "execute_result",
          "data": {
            "text/plain": [
              "<keras.callbacks.History at 0x7fecdbae9e50>"
            ]
          },
          "metadata": {},
          "execution_count": 26
        }
      ]
    },
    {
      "cell_type": "code",
      "source": [
        "##### Step 7 - Use model to make predictions\n",
        "# Predict the result on training data\n",
        "pred_train = model.predict(X_train)\n",
        "# Predict the result on test data\n",
        "pred_test = model.predict(X_test)"
      ],
      "metadata": {
        "id": "3D3CTw60NAPC"
      },
      "execution_count": 27,
      "outputs": []
    },
    {
      "cell_type": "markdown",
      "source": [
        "## Evaluación del modelo\n",
        "\n",
        "El siguiente código nos ayudará a entender la calidad de las predicciones de nuestro modelo, para ello utilizaremos la métrica MAPE o error medio absoluto porcentual, ya que es más informativo que el MSE al momento de evaluar los pronósticos de los modelos. También imprimiremos MSE, sin embargo, dado que nuestras unidades estan escaladas es de poca ayuda a la interpretación."
      ],
      "metadata": {
        "id": "tq4ZXi7PSKzn"
      }
    },
    {
      "cell_type": "code",
      "source": [
        "from sklearn.metrics import mean_squared_error, mean_absolute_percentage_error\n",
        "\n",
        "##### Evaluacion del modelo\n",
        "print(\"\")\n",
        "print('-------------------- Resumen --------------------')\n",
        "model.summary() \n",
        "print(\"\")\n",
        "print('-------------------- Parámetros del modelo --------------------')\n",
        "print(\"El último parámetro de cada capa es el sesgo y los demás son pesos\")\n",
        "print(\"\")\n",
        "for layer in model.layers:\n",
        "    print(layer.name)\n",
        "    for item in layer.get_weights():\n",
        "        print(\"  \", item)\n",
        "print(\"\")\n",
        "print('---------- Evaluación en los datos de entrenamiento ----------')\n",
        "print(\"MSE: \", mean_squared_error(y_train, pred_train))\n",
        "print(\"MAPE: \", mean_absolute_percentage_error(y_train, pred_train))\n",
        "print(\"\")\n",
        "\n",
        "print('---------- Evaluación en los datos de test ----------')\n",
        "print(\"MSE: \", mean_squared_error(y_test, pred_test))\n",
        "print(\"MAPE: \", mean_absolute_percentage_error(y_test, pred_test))"
      ],
      "metadata": {
        "colab": {
          "base_uri": "https://localhost:8080/"
        },
        "id": "kDs0PhghNaaW",
        "outputId": "ca36b3c6-dd14-4457-a4b3-736fbd799d19"
      },
      "execution_count": 35,
      "outputs": [
        {
          "output_type": "stream",
          "name": "stdout",
          "text": [
            "\n",
            "-------------------- Resumen --------------------\n",
            "Model: \"sequential_1\"\n",
            "_________________________________________________________________\n",
            " Layer (type)                Output Shape              Param #   \n",
            "=================================================================\n",
            " simple_rnn_1 (SimpleRNN)    (None, 1)                 3         \n",
            "                                                                 \n",
            " dense_2 (Dense)             (None, 1)                 2         \n",
            "                                                                 \n",
            " dense_3 (Dense)             (None, 1)                 2         \n",
            "                                                                 \n",
            "=================================================================\n",
            "Total params: 7\n",
            "Trainable params: 7\n",
            "Non-trainable params: 0\n",
            "_________________________________________________________________\n",
            "\n",
            "-------------------- Parámetros del modelo --------------------\n",
            "El último parámetro de cada capa es el sesgo y los demás son pesos\n",
            "\n",
            "simple_rnn_1\n",
            "   [[-0.7973412]]\n",
            "   [[0.59985405]]\n",
            "   [0.0237112]\n",
            "dense_2\n",
            "   [[-0.9256004]]\n",
            "   [-0.09983439]\n",
            "dense_3\n",
            "   [[1.2881272]]\n",
            "   [-0.0673049]\n",
            "\n",
            "---------- Evaluación en los datos de entrenamiento ----------\n",
            "MSE:  0.008304682481363427\n",
            "MAPE:  0.24263291046829713\n",
            "\n",
            "---------- Evaluación en los datos de test ----------\n",
            "MSE:  0.009099504407634788\n",
            "MAPE:  0.37441547475023323\n"
          ]
        }
      ]
    },
    {
      "cell_type": "markdown",
      "source": [
        "Mediante la métrica MAPE podemos ver que en promedio, el error porcentual de nuestra predicción en los datos conocidos por el modelo (training) es de 24% y en los no conocidos (test) es de 37%.  Si bien estos resultados no son impresionantes y sin duda pueden mejorarse, cumplen el objetivo de mostrar cómo modelar series de tiempo con RNN.\n",
        "\n",
        "## Visualizacion de resultados\n",
        "\n",
        "Para visualizar los resultados es necesario realizar la transformación de escalado de forma inversa y graficar, aquí puedes ver cómo modelamos una serie sencilla utilizando una RNN."
      ],
      "metadata": {
        "id": "q7BMay-MPaps"
      }
    },
    {
      "cell_type": "code",
      "source": [
        "plot_y=scaler.inverse_transform(y_test)\n",
        "plot_y_pred=scaler.inverse_transform(pred_test)\n"
      ],
      "metadata": {
        "id": "fyNbeI-hNb0V"
      },
      "execution_count": 29,
      "outputs": []
    },
    {
      "cell_type": "code",
      "source": [
        "import matplotlib.pyplot as plt\n",
        "\n",
        "plt.plot(plot_y)\n",
        "plt.plot(plot_y_pred)\n"
      ],
      "metadata": {
        "colab": {
          "base_uri": "https://localhost:8080/",
          "height": 283
        },
        "id": "0_E8D3rJOSVF",
        "outputId": "bf7b4b81-9585-4491-e1c4-479e6a8d7dd8"
      },
      "execution_count": 30,
      "outputs": [
        {
          "output_type": "execute_result",
          "data": {
            "text/plain": [
              "[<matplotlib.lines.Line2D at 0x7fecd932a210>]"
            ]
          },
          "metadata": {},
          "execution_count": 30
        },
        {
          "output_type": "display_data",
          "data": {
            "text/plain": [
              "<Figure size 432x288 with 1 Axes>"
            ],
            "image/png": "[encoded data removed]"
          },
          "metadata": {
            "needs_background": "light"
          }
        }
      ]
    },
    {
      "cell_type": "code",
      "source": [
        ""
      ],
      "metadata": {
        "id": "NWs4bYs4OUIM"
      },
      "execution_count": 30,
      "outputs": []
    }
  ]
}