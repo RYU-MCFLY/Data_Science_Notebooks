{
  "nbformat": 4,
  "nbformat_minor": 0,
  "metadata": {
    "colab": {
      "name": "Kernel Density Estimation.ipynb",
      "provenance": [],
      "authorship_tag": "ABX9TyPk/kNzr0AJt0/PVbsSJy0+",
      "include_colab_link": true
    },
    "kernelspec": {
      "name": "python3",
      "display_name": "Python 3"
    },
    "language_info": {
      "name": "python"
    }
  },
  "cells": [
    {
      "cell_type": "markdown",
      "metadata": {
        "id": "view-in-github",
        "colab_type": "text"
      },
      "source": [
        "<a href=\"https://colab.research.google.com/github/tozanni/Data_Science_Notebooks/blob/main/Kernel_Density_Estimation.ipynb\" target=\"_parent\"><img src=\"https://colab.research.google.com/assets/colab-badge.svg\" alt=\"Open In Colab\"/></a>"
      ]
    },
    {
      "cell_type": "markdown",
      "source": [
        "https://scikit-learn.org/stable/auto_examples/neighbors/plot_kde_1d.html#sphx-glr-auto-examples-neighbors-plot-kde-1d-py\n"
      ],
      "metadata": {
        "id": "ycONUoiBXsSo"
      }
    },
    {
      "cell_type": "code",
      "source": [
        "import numpy as np\n",
        "import matplotlib.pyplot as plt\n",
        "from scipy.stats import norm\n",
        "from sklearn.neighbors import KernelDensity\n"
      ],
      "metadata": {
        "id": "65xRU4bqXr7W"
      },
      "execution_count": 7,
      "outputs": []
    },
    {
      "cell_type": "markdown",
      "source": [
        "Generamos 200 valores aleatorios distribuidos normalmente \n",
        "con media 5 y desviación estándar de 1.\n",
        "\n",
        "Indicamos que la forma de la salida sea un array de Nx1, es decir 200 renglones y una columna. Esta forma nos conviene facilitar el uso de las funciones de graficación de Matplotlib."
      ],
      "metadata": {
        "id": "EKn94NG-fIDs"
      }
    },
    {
      "cell_type": "code",
      "source": [
        "np.random.seed(1)\n",
        "N = 200\n",
        "X = np.random.normal(5, 1, (N,1))\n",
        "\n",
        "#Mostrar primeros 10 valores generados\n",
        "X[:10]"
      ],
      "metadata": {
        "colab": {
          "base_uri": "https://localhost:8080/"
        },
        "id": "kCXPEsD7YAuu",
        "outputId": "a6e8aa16-7c6a-400b-c03d-1e2600863f06"
      },
      "execution_count": 63,
      "outputs": [
        {
          "output_type": "execute_result",
          "data": {
            "text/plain": [
              "array([[6.62434536],\n",
              "       [4.38824359],\n",
              "       [4.47182825],\n",
              "       [3.92703138],\n",
              "       [5.86540763],\n",
              "       [2.6984613 ],\n",
              "       [6.74481176],\n",
              "       [4.2387931 ],\n",
              "       [5.3190391 ],\n",
              "       [4.75062962]])"
            ]
          },
          "metadata": {},
          "execution_count": 63
        }
      ]
    },
    {
      "cell_type": "code",
      "source": [
        "X.shape"
      ],
      "metadata": {
        "colab": {
          "base_uri": "https://localhost:8080/"
        },
        "id": "wEiOf26zfavG",
        "outputId": "af668cd0-73a0-4090-87aa-ab4c32d17427"
      },
      "execution_count": 64,
      "outputs": [
        {
          "output_type": "execute_result",
          "data": {
            "text/plain": [
              "(200, 1)"
            ]
          },
          "metadata": {},
          "execution_count": 64
        }
      ]
    },
    {
      "cell_type": "markdown",
      "source": [
        "### Estimación de densidad mediante histograma con 5 bines\n"
      ],
      "metadata": {
        "id": "7bz4UsUyf5K5"
      }
    },
    {
      "cell_type": "code",
      "source": [
        "fig, ax = plt.subplots()\n",
        "ax.hist(X[:, 0], bins=5, fc=\"#AAAAFF\", density=True)\n",
        "ax.plot(X[:, 0], np.full(X.shape[0], -0.01), \"+k\")\n"
      ],
      "metadata": {
        "colab": {
          "base_uri": "https://localhost:8080/",
          "height": 283
        },
        "id": "ewiEz8YzaoDd",
        "outputId": "6079ac39-057c-45a8-a35b-8081fdaba94c"
      },
      "execution_count": 65,
      "outputs": [
        {
          "output_type": "execute_result",
          "data": {
            "text/plain": [
              "[<matplotlib.lines.Line2D at 0x7f9559818d50>]"
            ]
          },
          "metadata": {},
          "execution_count": 65
        },
        {
          "output_type": "display_data",
          "data": {
            "text/plain": [
              "<Figure size 432x288 with 1 Axes>"
            ],
            "image/png": "[encoded data removed]"
          },
          "metadata": {
            "needs_background": "light"
          }
        }
      ]
    },
    {
      "cell_type": "markdown",
      "source": [
        "### Estimación de densidad mediante histograma con 25 bines"
      ],
      "metadata": {
        "id": "44kHu0argAMy"
      }
    },
    {
      "cell_type": "code",
      "execution_count": 66,
      "metadata": {
        "colab": {
          "base_uri": "https://localhost:8080/",
          "height": 283
        },
        "id": "YioVmoapWz0x",
        "outputId": "fddb55ab-8a2c-4b11-958f-8eafe118a2b3"
      },
      "outputs": [
        {
          "output_type": "execute_result",
          "data": {
            "text/plain": [
              "[<matplotlib.lines.Line2D at 0x7f9559790b90>]"
            ]
          },
          "metadata": {},
          "execution_count": 66
        },
        {
          "output_type": "display_data",
          "data": {
            "text/plain": [
              "<Figure size 432x288 with 1 Axes>"
            ],
            "image/png": "[encoded data removed]"
          },
          "metadata": {
            "needs_background": "light"
          }
        }
      ],
      "source": [
        "fig, ax = plt.subplots()\n",
        "ax.hist(X[:, 0], bins=25, fc=\"#AAAAFF\", density=True)\n",
        "ax.plot(X[:, 0], np.full(X.shape[0], -0.01), \"+k\")\n"
      ]
    },
    {
      "cell_type": "markdown",
      "source": [
        "### Estimación de densidad gausssiana con parámetro de ancho de banda = 0.75"
      ],
      "metadata": {
        "id": "MMAeMAQYXqbk"
      }
    },
    {
      "cell_type": "code",
      "source": [
        "# Seleccion del parámetro de ancho de banda por \"regla de dedo\"\n",
        "from math import pow\n",
        "\n",
        "h = pow(4*pow(np.std(X),5) / (3*N) , 1/5)\n",
        "h"
      ],
      "metadata": {
        "colab": {
          "base_uri": "https://localhost:8080/"
        },
        "id": "dZCCjr0xhX2g",
        "outputId": "a90faa95-fe77-4d1b-a3b6-5fa9e03aeef6"
      },
      "execution_count": 83,
      "outputs": [
        {
          "output_type": "execute_result",
          "data": {
            "text/plain": [
              "0.3340758523895948"
            ]
          },
          "metadata": {},
          "execution_count": 83
        }
      ]
    },
    {
      "cell_type": "code",
      "source": [
        "# Estimación de densidad de probabilidad con kernel Gaussiano (KDE) y bandwidth=0.75\n",
        "\n",
        "kde = KernelDensity(kernel=\"gaussian\", bandwidth=h).fit(X)\n",
        "X_plot = np.linspace(0, 10, 1000)[:, np.newaxis]\n",
        "log_dens = kde.score_samples(X_plot)\n",
        "\n",
        "fig, ax = plt.subplots()\n",
        "ax.fill(X_plot[:, 0], np.exp(log_dens), fc=\"#AAAAFF\")\n",
        "ax.plot(X[:, 0], np.full(X.shape[0], -0.01), \"+k\")"
      ],
      "metadata": {
        "colab": {
          "base_uri": "https://localhost:8080/",
          "height": 283
        },
        "id": "Vk2JHQw0YQGK",
        "outputId": "82850dc8-ec6b-47bd-b3f0-2ca1f32dcb09"
      },
      "execution_count": 84,
      "outputs": [
        {
          "output_type": "execute_result",
          "data": {
            "text/plain": [
              "[<matplotlib.lines.Line2D at 0x7f9559420110>]"
            ]
          },
          "metadata": {},
          "execution_count": 84
        },
        {
          "output_type": "display_data",
          "data": {
            "text/plain": [
              "<Figure size 432x288 with 1 Axes>"
            ],
            "image/png": "[encoded data removed]"
          },
          "metadata": {
            "needs_background": "light"
          }
        }
      ]
    }
  ]
}